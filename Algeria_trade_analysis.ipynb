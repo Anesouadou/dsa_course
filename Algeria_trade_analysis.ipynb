{
 "cells": [
  {
   "cell_type": "code",
   "execution_count": null,
   "id": "13483784",
   "metadata": {},
   "outputs": [],
   "source": [
    "import os\n",
    "import sys\n",
    "import numpy as np\n",
    "import pandas as pd\n",
    "import matplotlib.pyplot as plt\n",
    "import copy\n",
    "import seaborn as sns\n",
    "import plotly.graph_objects as go\n",
    "import networkx as nx"
   ]
  },
  {
   "cell_type": "markdown",
   "id": "b6d17428",
   "metadata": {},
   "source": [
    "# OUTLINE"
   ]
  },
  {
   "cell_type": "markdown",
   "id": "3e09c0c4",
   "metadata": {},
   "source": [
    "[Datasets](#Datasets)  \n",
    "- [Algeria export for 2021](#Algeria-2021-Trade-data)  \n",
    "- [Change column names](#Change-column-names)  \n",
    "- [Multiple values by 1000](#Change-value-from-thousands-of-dollars-to-dollars)  \n",
    "- [Country code](#Country-code)   \n",
    "- [Add importer and exporter names](#Adding-Importer-and-exporter)  \n",
    "- [Product code](#Product-code)  \n",
    "\n",
    "[Algeria exports](#Algeria-Exports)  \n",
    "- [List of countries that receives Algeria Exports](#List-of-countries-that-receives-Algeria-Exports)  \n",
    "- [Total trade by country](#Total-trade-by-country)  \n",
    "- [Top 10 countries that imports from Algeria](#Top-10-countries-that-imports-from-Algeria)  \n",
    " - [Countries that imports from Algeria with more than billion dollars](#Countries-that-imports-from-Algeria-with-more-than-billion-dollars)  \n",
    " - [Countries that imports from Algeria with less than billion dollars](#Countries-that-imports-from-Algeria-with-less-than-billion-dollars)  \n",
    " - [Countries that imports from Algeria with less than 100 million dollars](#Countries-that-imports-from-Algeria-with-less-than-100-million-dollars)  \n",
    " - [Countries that imports from Algeria with less than 10 million dollars](#Countries-that-imports-from-Algeria-with-less-than-10-million-dollars)  \n",
    " - [Countries that imports from Algeria with less than 1 million dollars](#Countries-that-imports-from-Algeria-with-less-than-1-million-dollars)  \n",
    " - [Countries that imports from Algeria with less than 100 thousands dollars](#Countries-that-imports-from-Algeria-with-less-than-100-thousands-dollars)  \n",
    " - [The number of products imported by each country](#The-number-of-products-imported-by-each-country)\n",
    " \n"
   ]
  },
  {
   "cell_type": "markdown",
   "id": "bbad6725",
   "metadata": {},
   "source": [
    "# Datasets"
   ]
  },
  {
   "cell_type": "markdown",
   "id": "35b09e71",
   "metadata": {},
   "source": [
    "## Algeria 2021 Trade data"
   ]
  },
  {
   "cell_type": "code",
   "execution_count": null,
   "id": "4938cd95",
   "metadata": {},
   "outputs": [],
   "source": [
    "df_2021 = pd.read_csv('Algeria_export_transaction.csv')\n",
    "df_2021"
   ]
  },
  {
   "cell_type": "code",
   "execution_count": null,
   "id": "6f0f673a",
   "metadata": {},
   "outputs": [],
   "source": [
    "print('The total number of products code is: {}'.format(len(df_2021)))"
   ]
  },
  {
   "cell_type": "code",
   "execution_count": null,
   "id": "0c417829",
   "metadata": {},
   "outputs": [],
   "source": [
    "df_2021.columns"
   ]
  },
  {
   "cell_type": "markdown",
   "id": "d8ef4fca",
   "metadata": {},
   "source": [
    "**t:**\tYear  \n",
    "**k:**\tProduct category (HS 6-digit code)  \n",
    "**i:**\tExporter (ISO 3-digit country code)  \n",
    "**j:**\tImporter (ISO 3-digit country code)  \n",
    "**v:**\tValue of the trade flow (in thousands current USD)  \n",
    "**q:**\tQuantity (in metric tons)  "
   ]
  },
  {
   "cell_type": "markdown",
   "id": "495308ac",
   "metadata": {},
   "source": [
    "## Change column names"
   ]
  },
  {
   "cell_type": "code",
   "execution_count": null,
   "id": "57371c5f",
   "metadata": {},
   "outputs": [],
   "source": [
    "df_2021.columns = ['year','exporter_code','importer_code','product_code','value_dollar','quantity_metric_ton']"
   ]
  },
  {
   "cell_type": "code",
   "execution_count": null,
   "id": "9d13f1f0",
   "metadata": {},
   "outputs": [],
   "source": [
    "df_2021.drop(columns='Unnamed: 0',inplace=True)"
   ]
  },
  {
   "cell_type": "code",
   "execution_count": null,
   "id": "98402ef8",
   "metadata": {},
   "outputs": [],
   "source": [
    "df_2021.columns"
   ]
  },
  {
   "cell_type": "code",
   "execution_count": null,
   "id": "da3e3c41",
   "metadata": {},
   "outputs": [],
   "source": [
    "df_2021.columns = ['year','exporter_code','importer_code','product_code','value_dollar','quantity_metric_ton']"
   ]
  },
  {
   "cell_type": "code",
   "execution_count": null,
   "id": "a1afe6dc",
   "metadata": {},
   "outputs": [],
   "source": [
    "df_2021"
   ]
  },
  {
   "cell_type": "markdown",
   "id": "9be4e519",
   "metadata": {},
   "source": [
    "## Change value from thousands of dollars to dollars"
   ]
  },
  {
   "cell_type": "code",
   "execution_count": null,
   "id": "9ddb52ae",
   "metadata": {},
   "outputs": [],
   "source": [
    "df_2021['value_dollar'] = df_2021['value_dollar']*1000\n",
    "df_2021"
   ]
  },
  {
   "cell_type": "markdown",
   "id": "405d48ec",
   "metadata": {},
   "source": [
    "## Country code"
   ]
  },
  {
   "cell_type": "code",
   "execution_count": null,
   "id": "edac6f64",
   "metadata": {},
   "outputs": [],
   "source": [
    "df_country = pd.read_csv('country_codes_V202301.csv')\n",
    "df_country"
   ]
  },
  {
   "cell_type": "code",
   "execution_count": null,
   "id": "21710557",
   "metadata": {},
   "outputs": [],
   "source": [
    "df_country['country_code']"
   ]
  },
  {
   "cell_type": "code",
   "execution_count": null,
   "id": "5283d8a7",
   "metadata": {},
   "outputs": [],
   "source": [
    "df_country.iloc[0]"
   ]
  },
  {
   "cell_type": "code",
   "execution_count": null,
   "id": "6ead9f30",
   "metadata": {},
   "outputs": [],
   "source": [
    "filter_Algeria = df_country['country_name_abbreviation'] == 'Algeria'\n",
    "filter_Algeria"
   ]
  },
  {
   "cell_type": "code",
   "execution_count": null,
   "id": "ede1435d",
   "metadata": {},
   "outputs": [],
   "source": [
    "Algeria_code = df_country[filter_Algeria]\n",
    "Algeria_code"
   ]
  },
  {
   "cell_type": "code",
   "execution_count": null,
   "id": "32e9e8d6",
   "metadata": {},
   "outputs": [],
   "source": [
    "df_country[df_country['country_name_abbreviation'] == 'Algeria']"
   ]
  },
  {
   "cell_type": "markdown",
   "id": "7454b2b9",
   "metadata": {},
   "source": [
    "## Adding Importer and exporter"
   ]
  },
  {
   "cell_type": "code",
   "execution_count": null,
   "id": "79081942",
   "metadata": {},
   "outputs": [],
   "source": [
    "importer_list = []\n",
    "exporter_list = []\n",
    "\n",
    "for index, row in df_2021.iterrows():\n",
    "    exporter_code = row['exporter_code']\n",
    "    importer_code = row['importer_code']\n",
    "    \n",
    "    exporter_name = df_country[df_country['country_code']==exporter_code]['country_name_abbreviation']\n",
    "    importer_name = df_country[df_country['country_code']==importer_code]['country_name_abbreviation']\n",
    "    '''\n",
    "    print(list(exporter_name)[0])\n",
    "    print(list(importer_name)[0])\n",
    "    break\n",
    "    '''\n",
    "    exporter_list.append(list(exporter_name)[0])\n",
    "    importer_list.append(list(importer_name)[0])\n",
    "    "
   ]
  },
  {
   "cell_type": "code",
   "execution_count": null,
   "id": "6402999d",
   "metadata": {},
   "outputs": [],
   "source": [
    "print('length of importer list is: {}'.format(len(importer_list)))\n",
    "print('length of exporter list is: {}'.format(len(exporter_list)))"
   ]
  },
  {
   "cell_type": "code",
   "execution_count": null,
   "id": "64ce9c1f",
   "metadata": {},
   "outputs": [],
   "source": [
    "df_2021.insert(1,\"exporter_name\",exporter_list)\n",
    "df_2021.insert(3,\"importer_name\",importer_list)\n",
    "\n",
    "df_2021"
   ]
  },
  {
   "cell_type": "markdown",
   "id": "0323beb3",
   "metadata": {},
   "source": [
    "## Product code"
   ]
  },
  {
   "cell_type": "markdown",
   "id": "f98bd5e1",
   "metadata": {},
   "source": [
    "**01-05**  Animal & Animal Products  \n",
    "**06-15**  Vegetable Products  \n",
    "**16-24**  Foodstuffs  \n",
    "**25-27**  Mineral Products  \n",
    "**28-38**  Chemicals & Allied Industries  \n",
    "**39-40**  Plastics / Rubbers  \n",
    "**41-43**  Raw Hides, Skins, Leather, & Furs  \n",
    "**44-49**  Wood & Wood Products  \n",
    "**50-63**  Textiles  \n",
    "**64-67**  Footwear / Headgear  \n",
    "**68-71**  Stone / Glass  \n",
    "**72-83**  Metals  \n",
    "**84-85**  Machinery / Electrical  \n",
    "**86-89**  Transportation  \n",
    "**90-97**  Miscellaneous  "
   ]
  },
  {
   "cell_type": "code",
   "execution_count": null,
   "id": "541b7c8b",
   "metadata": {},
   "outputs": [],
   "source": [
    "df_2021['product_code'] = df_2021['product_code'].apply(lambda x: (str(x).rjust(6, '0')))  "
   ]
  },
  {
   "cell_type": "code",
   "execution_count": null,
   "id": "ac56de9f",
   "metadata": {},
   "outputs": [],
   "source": [
    "df_2021"
   ]
  },
  {
   "cell_type": "code",
   "execution_count": null,
   "id": "b40fa8e9",
   "metadata": {},
   "outputs": [],
   "source": [
    "df_2021.info"
   ]
  },
  {
   "cell_type": "markdown",
   "id": "5f202d46",
   "metadata": {},
   "source": [
    "# Algeria total export in Dollars"
   ]
  },
  {
   "cell_type": "code",
   "execution_count": null,
   "id": "a48273f4",
   "metadata": {},
   "outputs": [],
   "source": [
    "Alg_exp_total_value = df_2021['value_dollar'].sum()\n",
    "print('The total of Algeria exports is: ${:,.2f}'.format(Alg_exp_total_value))"
   ]
  },
  {
   "cell_type": "markdown",
   "id": "1fa0ebed",
   "metadata": {},
   "source": [
    "## List of countries that receives Algeria Exports"
   ]
  },
  {
   "cell_type": "code",
   "execution_count": null,
   "id": "5878a24a",
   "metadata": {},
   "outputs": [],
   "source": [
    "exp_countries = df_2021['importer_name'].unique()\n",
    "exp_len       = exp_countries.shape[0]\n",
    "print('The total number of countris that trade with Algeria is: {}'.format(exp_len))"
   ]
  },
  {
   "cell_type": "code",
   "execution_count": null,
   "id": "8f4b7d08",
   "metadata": {},
   "outputs": [],
   "source": [
    "print('list of countries:')\n",
    "print(exp_countries)"
   ]
  },
  {
   "cell_type": "markdown",
   "id": "e589f70c",
   "metadata": {},
   "source": [
    "## Total trade by country"
   ]
  },
  {
   "cell_type": "code",
   "execution_count": null,
   "id": "40f3fd0e",
   "metadata": {
    "scrolled": true
   },
   "outputs": [],
   "source": [
    "exp_countries_grouped = df_2021[['importer_name','value_dollar']].groupby(['importer_name'],as_index=False).sum().sort_values(['value_dollar'],ascending=False).reset_index()\n",
    "pd.options.display.float_format = '{:,.0f}'.format\n",
    "exp_countries_grouped.drop(columns=['index'],inplace=True)\n",
    "\n",
    "exp_countries_grouped"
   ]
  },
  {
   "cell_type": "code",
   "execution_count": null,
   "id": "9de0f0a2",
   "metadata": {},
   "outputs": [],
   "source": [
    "print('the country that receives the largest  amount of exports is {} with ${:,.2f}'.format(exp_countries_grouped['importer_name'][0],\n",
    "                                                                                            exp_countries_grouped['value_dollar'][0]))\n",
    "print('the country that receives the smallest amount of exports is {} with ${:,.2f}'.format(exp_countries_grouped['importer_name'][len(exp_countries_grouped)-1],\n",
    "                                                                                            exp_countries_grouped['value_dollar'][len(exp_countries_grouped)-1]))\n"
   ]
  },
  {
   "cell_type": "markdown",
   "id": "77eb95d5",
   "metadata": {},
   "source": [
    "## Top 10 countries that imports from Algeria"
   ]
  },
  {
   "cell_type": "code",
   "execution_count": null,
   "id": "9be17318",
   "metadata": {},
   "outputs": [],
   "source": [
    "exp_countries_grouped_10 = exp_countries_grouped.loc[0:9,'importer_name':'value_dollar']\n",
    "exp_countries_grouped_10"
   ]
  },
  {
   "cell_type": "code",
   "execution_count": null,
   "id": "5b839e25",
   "metadata": {
    "scrolled": true
   },
   "outputs": [],
   "source": [
    "exp_countries_grouped_10['value_dollar'] = round(exp_countries_grouped_10['value_dollar']/1e9,2)\n",
    "exp_countries_grouped_10"
   ]
  },
  {
   "cell_type": "code",
   "execution_count": null,
   "id": "ece6590d",
   "metadata": {},
   "outputs": [],
   "source": [
    "exp_countries_grouped_10.plot(kind='bar',x='importer_name',y='value_dollar')\n",
    "'''\n",
    "modify graph to add the following:\n",
    "    - y-axis titles to show value in million dollars\n",
    "    - Title for the graph\n",
    "    - remove legend\n",
    "'''"
   ]
  },
  {
   "cell_type": "markdown",
   "id": "2c6bdc3f",
   "metadata": {},
   "source": [
    "## Countries that imports from Algeria with more than billion dollars"
   ]
  },
  {
   "cell_type": "code",
   "execution_count": null,
   "id": "ff38cd7b",
   "metadata": {},
   "outputs": [],
   "source": [
    "exp_countries_grouped_billion = exp_countries_grouped[exp_countries_grouped['value_dollar']>=1000000000]\n",
    "exp_countries_grouped_billion"
   ]
  },
  {
   "cell_type": "code",
   "execution_count": null,
   "id": "54d1b242",
   "metadata": {},
   "outputs": [],
   "source": [
    "exp_countries_grouped_billion.plot(kind='bar',x='importer_name',y='value_dollar')"
   ]
  },
  {
   "cell_type": "markdown",
   "id": "2af9acec",
   "metadata": {},
   "source": [
    "## Countries that imports from Algeria with less than billion dollars"
   ]
  },
  {
   "cell_type": "code",
   "execution_count": null,
   "id": "5faeff9b",
   "metadata": {
    "scrolled": true
   },
   "outputs": [],
   "source": [
    "exp_countries_grouped_lessBillion = exp_countries_grouped[exp_countries_grouped['value_dollar']<1000000000]\n",
    "exp_countries_grouped_lessBillion"
   ]
  },
  {
   "cell_type": "markdown",
   "id": "36599d4a",
   "metadata": {},
   "source": [
    "## Countries that imports from Algeria with less than 100 million dollars"
   ]
  },
  {
   "cell_type": "code",
   "execution_count": null,
   "id": "da8ff230",
   "metadata": {},
   "outputs": [],
   "source": [
    "exp_countries_grouped_100million = exp_countries_grouped[exp_countries_grouped['value_dollar']<100000000]\n",
    "exp_countries_grouped_100million"
   ]
  },
  {
   "cell_type": "markdown",
   "id": "7a025476",
   "metadata": {},
   "source": [
    "## Countries that imports from Algeria with less than 10 million dollars"
   ]
  },
  {
   "cell_type": "code",
   "execution_count": null,
   "id": "e978eaf3",
   "metadata": {},
   "outputs": [],
   "source": [
    "exp_countries_grouped_10million = exp_countries_grouped[exp_countries_grouped['value_dollar']<10000000]\n",
    "exp_countries_grouped_10million"
   ]
  },
  {
   "cell_type": "markdown",
   "id": "d7362681",
   "metadata": {},
   "source": [
    "## Countries that imports from Algeria with less than 1 million dollars"
   ]
  },
  {
   "cell_type": "code",
   "execution_count": null,
   "id": "49b84951",
   "metadata": {
    "scrolled": true
   },
   "outputs": [],
   "source": [
    "exp_countries_grouped_million = exp_countries_grouped[exp_countries_grouped['value_dollar']<1000000]\n",
    "exp_countries_grouped_million"
   ]
  },
  {
   "cell_type": "markdown",
   "id": "eb8ea996",
   "metadata": {},
   "source": [
    "## Countries that imports from Algeria with less than 100 thousands dollars"
   ]
  },
  {
   "cell_type": "code",
   "execution_count": null,
   "id": "c204ec4d",
   "metadata": {},
   "outputs": [],
   "source": [
    "exp_countries_grouped_100k = exp_countries_grouped[exp_countries_grouped['value_dollar']<100000]\n",
    "exp_countries_grouped_100k"
   ]
  },
  {
   "cell_type": "code",
   "execution_count": null,
   "id": "ab485384",
   "metadata": {},
   "outputs": [],
   "source": [
    "less_100k           = len(exp_countries_grouped_100k)\n",
    "million_100k        = len(exp_countries_grouped_million) - len(exp_countries_grouped_100k)\n",
    "million_1_10        = len(exp_countries_grouped_10million) - len(exp_countries_grouped_million)  \n",
    "million_10_100      = len(exp_countries_grouped_100million) - len(exp_countries_grouped_10million)  \n",
    "million_100_billion = len(exp_countries_grouped_lessBillion) - len(exp_countries_grouped_100million)  \n",
    "billion             = len(exp_countries_grouped_billion) "
   ]
  },
  {
   "cell_type": "code",
   "execution_count": null,
   "id": "f192d3ec",
   "metadata": {},
   "outputs": [],
   "source": [
    "print('The total number of countries that imports from Algeria is: {}'.format(exp_len))\n",
    "print('The total number of countries that imports from Algeria with less than 100 thousands dollars is: {}'.format(less_100k))\n",
    "print('The total number of countries that imports from Algeria with less than 1   million   dollars is: {}'.format(million_100k))\n",
    "print('The total number of countries that imports from Algeria with 1    to   10  million   dollars is: {}'.format(million_1_10))\n",
    "print('The total number of countries that imports from Algeria with 10   to   100 million   dollars is: {}'.format(million_10_100))\n",
    "print('The total number of countries that imports from Algeria with 100  to   1   billion   dollars is: {}'.format(million_100_billion))\n",
    "print('The total number of countries that imports from Algeria with more than 1   billion   dollars is: {}'.format(len(exp_countries_grouped_billion)))"
   ]
  },
  {
   "cell_type": "code",
   "execution_count": null,
   "id": "de800e16",
   "metadata": {},
   "outputs": [],
   "source": [
    "Alg_exp_countries_labels = ['less_100k',\n",
    "                            'million_to_100k',\n",
    "                            'million_1_to_10',\n",
    "                            'million_10_to_100',\n",
    "                            '100million_to_billion',\n",
    "                            'billion']\n",
    "Alg_exp_countries_values = [less_100k,\n",
    "                            million_100k,\n",
    "                            million_1_10,\n",
    "                            million_10_100,\n",
    "                            million_100_billion,\n",
    "                            billion]\n",
    "\n",
    "Alg_exp_countries_values_sum = sum(Alg_exp_countries_values)\n",
    "Alg_exp_countries_percentages = [round((x/Alg_exp_countries_values_sum)*100,2) for x in Alg_exp_countries_values]"
   ]
  },
  {
   "cell_type": "code",
   "execution_count": null,
   "id": "d59f8458",
   "metadata": {},
   "outputs": [],
   "source": [
    "print(Alg_exp_countries_labels)\n",
    "print(Alg_exp_countries_values)\n",
    "print(Alg_exp_countries_percentages)"
   ]
  },
  {
   "cell_type": "code",
   "execution_count": null,
   "id": "f8c8f10e",
   "metadata": {},
   "outputs": [],
   "source": [
    "plt.barh(Alg_exp_countries_labels,Alg_exp_countries_values,label=Alg_exp_countries_labels)\n",
    "#plt.legend()\n",
    "plt.title('number of contries importing from Algeria based on imports value')"
   ]
  },
  {
   "cell_type": "code",
   "execution_count": null,
   "id": "7baedb2f",
   "metadata": {
    "scrolled": true
   },
   "outputs": [],
   "source": [
    "# make data\n",
    "x = [1, 2, 3, 4]\n",
    "colors = plt.get_cmap('Blues')(np.linspace(0.2, 0.7, len(x)))\n",
    "\n",
    "# plot\n",
    "fig, ax = plt.subplots()\n",
    "ax.pie(Alg_exp_countries_values, radius=3, center=(4, 4),autopct = '%1.1f%%',\n",
    "       wedgeprops={\"linewidth\": 1, \"edgecolor\": \"white\"}, frame=True)\n",
    "\n",
    "ax.set(xlim=(0, 8), xticks=np.arange(1, 8),\n",
    "       ylim=(0, 8), yticks=np.arange(1, 8))\n",
    "ax.legend(Alg_exp_countries_labels,\n",
    "          loc =\"center left\",\n",
    "          bbox_to_anchor =(1, 0, 0.5, 1))\n",
    "ax.set_title('percentage of countries according to the value of their imports from Algeria (total 120 countries)')\n",
    "plt.show()"
   ]
  },
  {
   "cell_type": "markdown",
   "id": "de664cb2",
   "metadata": {},
   "source": [
    "## The number of products imported by each country"
   ]
  },
  {
   "cell_type": "code",
   "execution_count": null,
   "id": "2ba7e1bb",
   "metadata": {},
   "outputs": [],
   "source": [
    "exp_numberOFproducts_grouped = df_2021[['importer_name','product_code']].groupby(['importer_name'],as_index=False).count().sort_values(by='product_code',ascending=False).reset_index()\n",
    "pd.options.display.float_format = '{:,.0f}'.format\n",
    "exp_numberOFproducts_grouped.drop(columns=['index'],inplace=True)\n",
    "\n",
    "exp_numberOFproducts_grouped"
   ]
  },
  {
   "cell_type": "code",
   "execution_count": null,
   "id": "6fe8c153",
   "metadata": {
    "scrolled": true
   },
   "outputs": [],
   "source": [
    "Alg_exp_exp_sumarry_merged = exp_countries_grouped.merge(exp_numberOFproducts_grouped,how='outer', on='importer_name')\n",
    "Alg_exp_exp_sumarry_merged"
   ]
  },
  {
   "cell_type": "code",
   "execution_count": null,
   "id": "9c94f7a5",
   "metadata": {
    "scrolled": true
   },
   "outputs": [],
   "source": [
    "Alg_exp_goods = copy.copy(df_2021) \n",
    "Alg_exp_goods"
   ]
  },
  {
   "cell_type": "code",
   "execution_count": null,
   "id": "a662a235",
   "metadata": {},
   "outputs": [],
   "source": [
    "Alg_exp_goods['product_code_chapter'] = Alg_exp_goods['product_code'].apply(lambda x: x[0:2] )\n",
    "Alg_exp_goods['product_code_heading'] = Alg_exp_goods['product_code'].apply(lambda x: x[2:4] )\n",
    "Alg_exp_goods['product_code_subhead'] = Alg_exp_goods['product_code'].apply(lambda x: x[4:6] )\n",
    "Alg_exp_goods"
   ]
  },
  {
   "cell_type": "code",
   "execution_count": null,
   "id": "5073f461",
   "metadata": {},
   "outputs": [],
   "source": [
    "Alg_exp_goods.columns"
   ]
  },
  {
   "cell_type": "code",
   "execution_count": null,
   "id": "d557f291",
   "metadata": {},
   "outputs": [],
   "source": [
    "Alg_exp_goods = Alg_exp_goods[['year', \n",
    "                               'exporter_name', 'exporter_code',\n",
    "                               'importer_name','importer_code',\n",
    "                               'product_code',\n",
    "                               'product_code_chapter',\n",
    "                               'product_code_heading',\n",
    "                               'product_code_subhead',\n",
    "                               'value_dollar',\n",
    "                               'quantity_metric_ton']]\n",
    "Alg_exp_goods"
   ]
  },
  {
   "cell_type": "code",
   "execution_count": null,
   "id": "07f290fe",
   "metadata": {
    "scrolled": true
   },
   "outputs": [],
   "source": [
    "product_chapters = Alg_exp_goods['product_code_chapter'].unique()\n",
    "print('Total number of product is {} which falls under {} chapters'.format(len(Alg_exp_goods),len(product_chapters)))\n",
    "product_chapters"
   ]
  },
  {
   "cell_type": "markdown",
   "id": "cd2cb8b5",
   "metadata": {},
   "source": [
    "## Number of products under each chapter"
   ]
  },
  {
   "cell_type": "code",
   "execution_count": null,
   "id": "def2290f",
   "metadata": {
    "scrolled": true
   },
   "outputs": [],
   "source": [
    "Alg_exp_goods_summary = Alg_exp_goods[['exporter_name', \n",
    "                                       'importer_name',\n",
    "                                       'product_code',\n",
    "                                       'product_code_chapter',\n",
    "                                       'value_dollar',\n",
    "                                       'quantity_metric_ton']].groupby(Alg_exp_goods['product_code_chapter']).sum().sort_values(['value_dollar'],ascending=False).reset_index()\n",
    "#Alg_exp_goods_summary.drop(columns=['index'],inplace=True)\n",
    "Alg_exp_goods_summary.head(20)"
   ]
  },
  {
   "cell_type": "code",
   "execution_count": null,
   "id": "5c1cfefb",
   "metadata": {},
   "outputs": [],
   "source": [
    "Alg_exp_goods_summary['exported_value_%'] = Alg_exp_goods_summary['value_dollar'].apply(lambda x: float((x/Alg_exp_total_value)*100))\n",
    "pd.options.display.float_format = '{:,.00f}'.format\n",
    "Alg_exp_goods_summary['exported_value_%']"
   ]
  },
  {
   "cell_type": "code",
   "execution_count": null,
   "id": "307b6402",
   "metadata": {},
   "outputs": [],
   "source": [
    "Alg_exp_goods_summary"
   ]
  },
  {
   "cell_type": "code",
   "execution_count": null,
   "id": "5b50d595",
   "metadata": {},
   "outputs": [],
   "source": [
    "product_chapter_max = Alg_exp_goods_summary.iloc[Alg_exp_goods_summary['value_dollar'].argmax()]\n",
    "print('The product exported the max   : {}'.format(product_chapter_max['product_code_chapter']))\n",
    "print('The product exported value     : ${:,.2f}'.format(product_chapter_max['value_dollar']))\n",
    "print('The product exported percentage: {:.2f}%'.format(product_chapter_max['exported_value_%']))\n",
    "print('Product code 27 stands for: MINERAL FUELS, MINERAL OILS AND PRODUCTS OF THEIR DISTILLATION; BITUMINOUS SUBSTANCES; MINERAL WAXES')"
   ]
  },
  {
   "cell_type": "markdown",
   "id": "5abe5783",
   "metadata": {},
   "source": [
    "## Countries that receive Product code 27"
   ]
  },
  {
   "cell_type": "code",
   "execution_count": null,
   "id": "97a12831",
   "metadata": {},
   "outputs": [],
   "source": [
    "exported_product_27 = Alg_exp_goods[Alg_exp_goods['product_code_chapter']=='27'].sort_values(by=['value_dollar'],ascending=False )\n",
    "exported_product_27"
   ]
  },
  {
   "cell_type": "code",
   "execution_count": null,
   "id": "3a0f9c9c",
   "metadata": {},
   "outputs": [],
   "source": [
    "exported_product_27_countries = exported_product_27[['importer_name',\n",
    "                                                    'value_dollar']].groupby('importer_name').sum().sort_values(by=['value_dollar'],ascending=False)\n",
    "exported_product_27_countries"
   ]
  },
  {
   "cell_type": "code",
   "execution_count": null,
   "id": "93b98546",
   "metadata": {},
   "outputs": [],
   "source": [
    "exported_product_27_countries_sum = exported_product_27_countries['value_dollar'].sum()\n",
    "print('total exported of product 27 is: ${:,.2f}'.format(exported_product_27_countries_sum))\n",
    "exported_product_27_countries['exported_value_%'] = exported_product_27_countries['value_dollar'].apply(lambda x: (x/exported_product_27_countries_sum)*100)\n",
    "exported_product_27_countries"
   ]
  },
  {
   "cell_type": "code",
   "execution_count": null,
   "id": "2a46ddaf",
   "metadata": {},
   "outputs": [],
   "source": []
  }
 ],
 "metadata": {
  "kernelspec": {
   "display_name": "Python 3 (ipykernel)",
   "language": "python",
   "name": "python3"
  },
  "language_info": {
   "codemirror_mode": {
    "name": "ipython",
    "version": 3
   },
   "file_extension": ".py",
   "mimetype": "text/x-python",
   "name": "python",
   "nbconvert_exporter": "python",
   "pygments_lexer": "ipython3",
   "version": "3.9.13"
  }
 },
 "nbformat": 4,
 "nbformat_minor": 5
}
